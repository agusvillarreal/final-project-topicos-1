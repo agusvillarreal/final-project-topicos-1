{
 "cells": [
  {
   "cell_type": "markdown",
   "id": "3d21f210",
   "metadata": {},
   "source": [
    "# Dashboard Interactivo para el Análisis de Meteoritos\n",
    "\n",
    "Este Jupyter Notebook construye un **dashboard interactivo** (utilizando [Panel](https://panel.holoviz.org/) y otras librerías) para analizar el dataset de meteoritos contenido en `data/Meteorite_Landings.csv`. Permite aplicar filtros dinámicos y visualizar:\n",
    "- Tendencias temporales\n",
    "- Distribución de masas (escala log)\n",
    "- Clasificaciones principales\n",
    "- Mapa mundial interactivo\n",
    "- Métricas descriptivas y correlaciones\n",
    "\n",
    "## Estructura de la solución\n",
    "\n",
    "- **Sección 1**: Importación de librerías y carga del dataset con las funciones definidas en `src/data_loader.py`.\n",
    "- **Sección 2**: Creación de widgets (controles) de Panel para filtrar por año, masa, clasificación y tipo (Fell/Found).\n",
    "- **Sección 3**: Visualizaciones interactivas con Panel + Plotly / hvPlot / Folium.\n",
    "- **Sección 4**: Cálculo y visualización de métricas (estadísticas descriptivas, correlaciones, métricas espaciales).\n",
    "- **Sección 5**: Construcción de Tabs y despliegue del dashboard completo.\n",
    "\n",
    "Asegúrate de tener instaladas las dependencias (Panel, hvPlot, Holoviews, Folium, etc.) para que todas las celdas se ejecuten correctamente.\n",
    "\n",
    "> **Nota**: El archivo CSV de meteoritos se espera en la ruta `data/Meteorite_Landings.csv`, y los módulos se ubican en `src/data_loader.py`, `src/metrics.py` y `src/visualization.py` respectivamente.\n"
   ]
  },
  {
   "cell_type": "markdown",
   "id": "15a3c7e6",
   "metadata": {},
   "source": [
    "## 1. Carga de librerías y dataset"
   ]
  },
  {
   "cell_type": "code",
   "execution_count": null,
   "id": "184d8990",
   "metadata": {
    "executionInfo": {}
   },
   "outputs": [
    {
     "data": {
      "application/javascript": "(function(root) {\n  function now() {\n    return new Date();\n  }\n\n  var force = true;\n  var py_version = '3.4.3'.replace('rc', '-rc.').replace('.dev', '-dev.');\n  var reloading = false;\n  var Bokeh = root.Bokeh;\n\n  if (typeof (root._bokeh_timeout) === \"undefined\" || force) {\n    root._bokeh_timeout = Date.now() + 5000;\n    root._bokeh_failed_load = false;\n  }\n\n  function run_callbacks() {\n    try {\n      root._bokeh_onload_callbacks.forEach(function(callback) {\n        if (callback != null)\n          callback();\n      });\n    } finally {\n      delete root._bokeh_onload_callbacks;\n    }\n    console.debug(\"Bokeh: all callbacks have finished\");\n  }\n\n  function load_libs(css_urls, js_urls, js_modules, js_exports, callback) {\n    if (css_urls == null) css_urls = [];\n    if (js_urls == null) js_urls = [];\n    if (js_modules == null) js_modules = [];\n    if (js_exports == null) js_exports = {};\n\n    root._bokeh_onload_callbacks.push(callback);\n\n    if (root._bokeh_is_loading > 0) {\n      console.debug(\"Bokeh: BokehJS is being loaded, scheduling callback at\", now());\n      return null;\n    }\n    if (js_urls.length === 0 && js_modules.length === 0 && Object.keys(js_exports).length === 0) {\n      run_callbacks();\n      return null;\n    }\n    if (!reloading) {\n      console.debug(\"Bokeh: BokehJS not loaded, scheduling load and callback at\", now());\n    }\n\n    function on_load() {\n      root._bokeh_is_loading--;\n      if (root._bokeh_is_loading === 0) {\n        console.debug(\"Bokeh: all BokehJS libraries/stylesheets loaded\");\n        run_callbacks()\n      }\n    }\n    window._bokeh_on_load = on_load\n\n    function on_error() {\n      console.error(\"failed to load \" + url);\n    }\n\n    var skip = [];\n    if (window.requirejs) {\n      window.requirejs.config({'packages': {}, 'paths': {'plotly': 'https://cdn.plot.ly/plotly-2.31.1.min'}, 'shim': {}});\n      require([\"plotly\"], function(Plotly) {\n\twindow.Plotly = Plotly\n\ton_load()\n      })\n      root._bokeh_is_loading = css_urls.length + 1;\n    } else {\n      root._bokeh_is_loading = css_urls.length + js_urls.length + js_modules.length + Object.keys(js_exports).length;\n    }\n\n    var existing_stylesheets = []\n    var links = document.getElementsByTagName('link')\n    for (var i = 0; i < links.length; i++) {\n      var link = links[i]\n      if (link.href != null) {\n\texisting_stylesheets.push(link.href)\n      }\n    }\n    for (var i = 0; i < css_urls.length; i++) {\n      var url = css_urls[i];\n      if (existing_stylesheets.indexOf(url) !== -1) {\n\ton_load()\n\tcontinue;\n      }\n      const element = document.createElement(\"link\");\n      element.onload = on_load;\n      element.onerror = on_error;\n      element.rel = \"stylesheet\";\n      element.type = \"text/css\";\n      element.href = url;\n      console.debug(\"Bokeh: injecting link tag for BokehJS stylesheet: \", url);\n      document.body.appendChild(element);\n    }    if (((window.Plotly !== undefined) && (!(window.Plotly instanceof HTMLElement))) || window.requirejs) {\n      var urls = ['https://cdn.holoviz.org/panel/1.4.5/dist/bundled/plotlyplot/plotly-2.31.1.min.js'];\n      for (var i = 0; i < urls.length; i++) {\n        skip.push(urls[i])\n      }\n    }    var existing_scripts = []\n    var scripts = document.getElementsByTagName('script')\n    for (var i = 0; i < scripts.length; i++) {\n      var script = scripts[i]\n      if (script.src != null) {\n\texisting_scripts.push(script.src)\n      }\n    }\n    for (var i = 0; i < js_urls.length; i++) {\n      var url = js_urls[i];\n      if (skip.indexOf(url) !== -1 || existing_scripts.indexOf(url) !== -1) {\n\tif (!window.requirejs) {\n\t  on_load();\n\t}\n\tcontinue;\n      }\n      var element = document.createElement('script');\n      element.onload = on_load;\n      element.onerror = on_error;\n      element.async = false;\n      element.src = url;\n      console.debug(\"Bokeh: injecting script tag for BokehJS library: \", url);\n      document.head.appendChild(element);\n    }\n    for (var i = 0; i < js_modules.length; i++) {\n      var url = js_modules[i];\n      if (skip.indexOf(url) !== -1 || existing_scripts.indexOf(url) !== -1) {\n\tif (!window.requirejs) {\n\t  on_load();\n\t}\n\tcontinue;\n      }\n      var element = document.createElement('script');\n      element.onload = on_load;\n      element.onerror = on_error;\n      element.async = false;\n      element.src = url;\n      element.type = \"module\";\n      console.debug(\"Bokeh: injecting script tag for BokehJS library: \", url);\n      document.head.appendChild(element);\n    }\n    for (const name in js_exports) {\n      var url = js_exports[name];\n      if (skip.indexOf(url) >= 0 || root[name] != null) {\n\tif (!window.requirejs) {\n\t  on_load();\n\t}\n\tcontinue;\n      }\n      var element = document.createElement('script');\n      element.onerror = on_error;\n      element.async = false;\n      element.type = \"module\";\n      console.debug(\"Bokeh: injecting script tag for BokehJS library: \", url);\n      element.textContent = `\n      import ${name} from \"${url}\"\n      window.${name} = ${name}\n      window._bokeh_on_load()\n      `\n      document.head.appendChild(element);\n    }\n    if (!js_urls.length && !js_modules.length) {\n      on_load()\n    }\n  };\n\n  function inject_raw_css(css) {\n    const element = document.createElement(\"style\");\n    element.appendChild(document.createTextNode(css));\n    document.body.appendChild(element);\n  }\n\n  var js_urls = [\"https://cdn.holoviz.org/panel/1.4.5/dist/bundled/jquery/jquery.slim.min.js\", \"https://cdn.holoviz.org/panel/1.4.5/dist/bundled/plotlyplot/plotly-2.31.1.min.js\", \"https://cdn.bokeh.org/bokeh/release/bokeh-3.4.3.min.js\", \"https://cdn.bokeh.org/bokeh/release/bokeh-gl-3.4.3.min.js\", \"https://cdn.bokeh.org/bokeh/release/bokeh-widgets-3.4.3.min.js\", \"https://cdn.bokeh.org/bokeh/release/bokeh-tables-3.4.3.min.js\", \"https://cdn.holoviz.org/panel/1.4.5/dist/panel.min.js\"];\n  var js_modules = [];\n  var js_exports = {};\n  var css_urls = [];\n  var inline_js = [    function(Bokeh) {\n      Bokeh.set_log_level(\"info\");\n    },\nfunction(Bokeh) {} // ensure no trailing comma for IE\n  ];\n\n  function run_inline_js() {\n    if ((root.Bokeh !== undefined) || (force === true)) {\n      for (var i = 0; i < inline_js.length; i++) {\n\ttry {\n          inline_js[i].call(root, root.Bokeh);\n\t} catch(e) {\n\t  if (!reloading) {\n\t    throw e;\n\t  }\n\t}\n      }\n      // Cache old bokeh versions\n      if (Bokeh != undefined && !reloading) {\n\tvar NewBokeh = root.Bokeh;\n\tif (Bokeh.versions === undefined) {\n\t  Bokeh.versions = new Map();\n\t}\n\tif (NewBokeh.version !== Bokeh.version) {\n\t  Bokeh.versions.set(NewBokeh.version, NewBokeh)\n\t}\n\troot.Bokeh = Bokeh;\n      }} else if (Date.now() < root._bokeh_timeout) {\n      setTimeout(run_inline_js, 100);\n    } else if (!root._bokeh_failed_load) {\n      console.log(\"Bokeh: BokehJS failed to load within specified timeout.\");\n      root._bokeh_failed_load = true;\n    }\n    root._bokeh_is_initializing = false\n  }\n\n  function load_or_wait() {\n    // Implement a backoff loop that tries to ensure we do not load multiple\n    // versions of Bokeh and its dependencies at the same time.\n    // In recent versions we use the root._bokeh_is_initializing flag\n    // to determine whether there is an ongoing attempt to initialize\n    // bokeh, however for backward compatibility we also try to ensure\n    // that we do not start loading a newer (Panel>=1.0 and Bokeh>3) version\n    // before older versions are fully initialized.\n    if (root._bokeh_is_initializing && Date.now() > root._bokeh_timeout) {\n      root._bokeh_is_initializing = false;\n      root._bokeh_onload_callbacks = undefined;\n      console.log(\"Bokeh: BokehJS was loaded multiple times but one version failed to initialize.\");\n      load_or_wait();\n    } else if (root._bokeh_is_initializing || (typeof root._bokeh_is_initializing === \"undefined\" && root._bokeh_onload_callbacks !== undefined)) {\n      setTimeout(load_or_wait, 100);\n    } else {\n      root._bokeh_is_initializing = true\n      root._bokeh_onload_callbacks = []\n      var bokeh_loaded = Bokeh != null && (Bokeh.version === py_version || (Bokeh.versions !== undefined && Bokeh.versions.has(py_version)));\n      if (!reloading && !bokeh_loaded) {\n\troot.Bokeh = undefined;\n      }\n      load_libs(css_urls, js_urls, js_modules, js_exports, function() {\n\tconsole.debug(\"Bokeh: BokehJS plotting callback run at\", now());\n\trun_inline_js();\n      });\n    }\n  }\n  // Give older versions of the autoload script a head-start to ensure\n  // they initialize before we start loading newer version.\n  setTimeout(load_or_wait, 100)\n}(window));",
      "application/vnd.holoviews_load.v0+json": ""
     },
     "metadata": {},
     "output_type": "display_data"
    },
    {
     "data": {
      "application/javascript": "\nif ((window.PyViz === undefined) || (window.PyViz instanceof HTMLElement)) {\n  window.PyViz = {comms: {}, comm_status:{}, kernels:{}, receivers: {}, plot_index: []}\n}\n\n\n    function JupyterCommManager() {\n    }\n\n    JupyterCommManager.prototype.register_target = function(plot_id, comm_id, msg_handler) {\n      if (window.comm_manager || ((window.Jupyter !== undefined) && (Jupyter.notebook.kernel != null))) {\n        var comm_manager = window.comm_manager || Jupyter.notebook.kernel.comm_manager;\n        comm_manager.register_target(comm_id, function(comm) {\n          comm.on_msg(msg_handler);\n        });\n      } else if ((plot_id in window.PyViz.kernels) && (window.PyViz.kernels[plot_id])) {\n        window.PyViz.kernels[plot_id].registerCommTarget(comm_id, function(comm) {\n          comm.onMsg = msg_handler;\n        });\n      } else if (typeof google != 'undefined' && google.colab.kernel != null) {\n        google.colab.kernel.comms.registerTarget(comm_id, (comm) => {\n          var messages = comm.messages[Symbol.asyncIterator]();\n          function processIteratorResult(result) {\n            var message = result.value;\n            console.log(message)\n            var content = {data: message.data, comm_id};\n            var buffers = []\n            for (var buffer of message.buffers || []) {\n              buffers.push(new DataView(buffer))\n            }\n            var metadata = message.metadata || {};\n            var msg = {content, buffers, metadata}\n            msg_handler(msg);\n            return messages.next().then(processIteratorResult);\n          }\n          return messages.next().then(processIteratorResult);\n        })\n      }\n    }\n\n    JupyterCommManager.prototype.get_client_comm = function(plot_id, comm_id, msg_handler) {\n      if (comm_id in window.PyViz.comms) {\n        return window.PyViz.comms[comm_id];\n      } else if (window.comm_manager || ((window.Jupyter !== undefined) && (Jupyter.notebook.kernel != null))) {\n        var comm_manager = window.comm_manager || Jupyter.notebook.kernel.comm_manager;\n        var comm = comm_manager.new_comm(comm_id, {}, {}, {}, comm_id);\n        if (msg_handler) {\n          comm.on_msg(msg_handler);\n        }\n      } else if ((plot_id in window.PyViz.kernels) && (window.PyViz.kernels[plot_id])) {\n        var comm = window.PyViz.kernels[plot_id].connectToComm(comm_id);\n        comm.open();\n        if (msg_handler) {\n          comm.onMsg = msg_handler;\n        }\n      } else if (typeof google != 'undefined' && google.colab.kernel != null) {\n        var comm_promise = google.colab.kernel.comms.open(comm_id)\n        comm_promise.then((comm) => {\n          window.PyViz.comms[comm_id] = comm;\n          if (msg_handler) {\n            var messages = comm.messages[Symbol.asyncIterator]();\n            function processIteratorResult(result) {\n              var message = result.value;\n              var content = {data: message.data};\n              var metadata = message.metadata || {comm_id};\n              var msg = {content, metadata}\n              msg_handler(msg);\n              return messages.next().then(processIteratorResult);\n            }\n            return messages.next().then(processIteratorResult);\n          }\n        })\n        var sendClosure = (data, metadata, buffers, disposeOnDone) => {\n          return comm_promise.then((comm) => {\n            comm.send(data, metadata, buffers, disposeOnDone);\n          });\n        };\n        var comm = {\n          send: sendClosure\n        };\n      }\n      window.PyViz.comms[comm_id] = comm;\n      return comm;\n    }\n    window.PyViz.comm_manager = new JupyterCommManager();\n    \n\n\nvar JS_MIME_TYPE = 'application/javascript';\nvar HTML_MIME_TYPE = 'text/html';\nvar EXEC_MIME_TYPE = 'application/vnd.holoviews_exec.v0+json';\nvar CLASS_NAME = 'output';\n\n/**\n * Render data to the DOM node\n */\nfunction render(props, node) {\n  var div = document.createElement(\"div\");\n  var script = document.createElement(\"script\");\n  node.appendChild(div);\n  node.appendChild(script);\n}\n\n/**\n * Handle when a new output is added\n */\nfunction handle_add_output(event, handle) {\n  var output_area = handle.output_area;\n  var output = handle.output;\n  if ((output.data == undefined) || (!output.data.hasOwnProperty(EXEC_MIME_TYPE))) {\n    return\n  }\n  var id = output.metadata[EXEC_MIME_TYPE][\"id\"];\n  var toinsert = output_area.element.find(\".\" + CLASS_NAME.split(' ')[0]);\n  if (id !== undefined) {\n    var nchildren = toinsert.length;\n    var html_node = toinsert[nchildren-1].children[0];\n    html_node.innerHTML = output.data[HTML_MIME_TYPE];\n    var scripts = [];\n    var nodelist = html_node.querySelectorAll(\"script\");\n    for (var i in nodelist) {\n      if (nodelist.hasOwnProperty(i)) {\n        scripts.push(nodelist[i])\n      }\n    }\n\n    scripts.forEach( function (oldScript) {\n      var newScript = document.createElement(\"script\");\n      var attrs = [];\n      var nodemap = oldScript.attributes;\n      for (var j in nodemap) {\n        if (nodemap.hasOwnProperty(j)) {\n          attrs.push(nodemap[j])\n        }\n      }\n      attrs.forEach(function(attr) { newScript.setAttribute(attr.name, attr.value) });\n      newScript.appendChild(document.createTextNode(oldScript.innerHTML));\n      oldScript.parentNode.replaceChild(newScript, oldScript);\n    });\n    if (JS_MIME_TYPE in output.data) {\n      toinsert[nchildren-1].children[1].textContent = output.data[JS_MIME_TYPE];\n    }\n    output_area._hv_plot_id = id;\n    if ((window.Bokeh !== undefined) && (id in Bokeh.index)) {\n      window.PyViz.plot_index[id] = Bokeh.index[id];\n    } else {\n      window.PyViz.plot_index[id] = null;\n    }\n  } else if (output.metadata[EXEC_MIME_TYPE][\"server_id\"] !== undefined) {\n    var bk_div = document.createElement(\"div\");\n    bk_div.innerHTML = output.data[HTML_MIME_TYPE];\n    var script_attrs = bk_div.children[0].attributes;\n    for (var i = 0; i < script_attrs.length; i++) {\n      toinsert[toinsert.length - 1].childNodes[1].setAttribute(script_attrs[i].name, script_attrs[i].value);\n    }\n    // store reference to server id on output_area\n    output_area._bokeh_server_id = output.metadata[EXEC_MIME_TYPE][\"server_id\"];\n  }\n}\n\n/**\n * Handle when an output is cleared or removed\n */\nfunction handle_clear_output(event, handle) {\n  var id = handle.cell.output_area._hv_plot_id;\n  var server_id = handle.cell.output_area._bokeh_server_id;\n  if (((id === undefined) || !(id in PyViz.plot_index)) && (server_id !== undefined)) { return; }\n  var comm = window.PyViz.comm_manager.get_client_comm(\"hv-extension-comm\", \"hv-extension-comm\", function () {});\n  if (server_id !== null) {\n    comm.send({event_type: 'server_delete', 'id': server_id});\n    return;\n  } else if (comm !== null) {\n    comm.send({event_type: 'delete', 'id': id});\n  }\n  delete PyViz.plot_index[id];\n  if ((window.Bokeh !== undefined) & (id in window.Bokeh.index)) {\n    var doc = window.Bokeh.index[id].model.document\n    doc.clear();\n    const i = window.Bokeh.documents.indexOf(doc);\n    if (i > -1) {\n      window.Bokeh.documents.splice(i, 1);\n    }\n  }\n}\n\n/**\n * Handle kernel restart event\n */\nfunction handle_kernel_cleanup(event, handle) {\n  delete PyViz.comms[\"hv-extension-comm\"];\n  window.PyViz.plot_index = {}\n}\n\n/**\n * Handle update_display_data messages\n */\nfunction handle_update_output(event, handle) {\n  handle_clear_output(event, {cell: {output_area: handle.output_area}})\n  handle_add_output(event, handle)\n}\n\nfunction register_renderer(events, OutputArea) {\n  function append_mime(data, metadata, element) {\n    // create a DOM node to render to\n    var toinsert = this.create_output_subarea(\n    metadata,\n    CLASS_NAME,\n    EXEC_MIME_TYPE\n    );\n    this.keyboard_manager.register_events(toinsert);\n    // Render to node\n    var props = {data: data, metadata: metadata[EXEC_MIME_TYPE]};\n    render(props, toinsert[0]);\n    element.append(toinsert);\n    return toinsert\n  }\n\n  events.on('output_added.OutputArea', handle_add_output);\n  events.on('output_updated.OutputArea', handle_update_output);\n  events.on('clear_output.CodeCell', handle_clear_output);\n  events.on('delete.Cell', handle_clear_output);\n  events.on('kernel_ready.Kernel', handle_kernel_cleanup);\n\n  OutputArea.prototype.register_mime_type(EXEC_MIME_TYPE, append_mime, {\n    safe: true,\n    index: 0\n  });\n}\n\nif (window.Jupyter !== undefined) {\n  try {\n    var events = require('base/js/events');\n    var OutputArea = require('notebook/js/outputarea').OutputArea;\n    if (OutputArea.prototype.mime_types().indexOf(EXEC_MIME_TYPE) == -1) {\n      register_renderer(events, OutputArea);\n    }\n  } catch(err) {\n  }\n}\n",
      "application/vnd.holoviews_load.v0+json": ""
     },
     "metadata": {},
     "output_type": "display_data"
    },
    {
     "data": {
      "text/html": [
       "<style>*[data-root-id],\n",
       "*[data-root-id] > * {\n",
       "  box-sizing: border-box;\n",
       "  font-family: var(--jp-ui-font-family);\n",
       "  font-size: var(--jp-ui-font-size1);\n",
       "  color: var(--vscode-editor-foreground, var(--jp-ui-font-color1));\n",
       "}\n",
       "\n",
       "/* Override VSCode background color */\n",
       ".cell-output-ipywidget-background:has(\n",
       "    > .cell-output-ipywidget-background > .lm-Widget > *[data-root-id]\n",
       "  ),\n",
       ".cell-output-ipywidget-background:has(> .lm-Widget > *[data-root-id]) {\n",
       "  background-color: transparent !important;\n",
       "}\n",
       "</style>"
      ]
     },
     "metadata": {},
     "output_type": "display_data"
    },
    {
     "data": {
      "application/vnd.holoviews_exec.v0+json": "",
      "text/html": [
       "<div id='1066af11-080f-4c20-9dc4-8cc90c4d2093'>\n",
       "  <div id=\"ba9ee8b5-8076-4ae5-84f8-efe8ad902a77\" data-root-id=\"1066af11-080f-4c20-9dc4-8cc90c4d2093\" style=\"display: contents;\"></div>\n",
       "</div>\n",
       "<script type=\"application/javascript\">(function(root) {\n",
       "  var docs_json = {\"1750adcd-4dc1-4fbd-a049-2a7c72aa5e22\":{\"version\":\"3.4.3\",\"title\":\"Bokeh Application\",\"roots\":[{\"type\":\"object\",\"name\":\"panel.models.browser.BrowserInfo\",\"id\":\"1066af11-080f-4c20-9dc4-8cc90c4d2093\"},{\"type\":\"object\",\"name\":\"panel.models.comm_manager.CommManager\",\"id\":\"32fc3109-c2e0-4d1c-953b-727a431eae61\",\"attributes\":{\"plot_id\":\"1066af11-080f-4c20-9dc4-8cc90c4d2093\",\"comm_id\":\"6ba059c6c8004cbeb15f5fb792b64a50\",\"client_comm_id\":\"3a4d89b99783422a9dc4137f9e7f99c8\"}}],\"defs\":[{\"type\":\"model\",\"name\":\"ReactiveHTML1\"},{\"type\":\"model\",\"name\":\"FlexBox1\",\"properties\":[{\"name\":\"align_content\",\"kind\":\"Any\",\"default\":\"flex-start\"},{\"name\":\"align_items\",\"kind\":\"Any\",\"default\":\"flex-start\"},{\"name\":\"flex_direction\",\"kind\":\"Any\",\"default\":\"row\"},{\"name\":\"flex_wrap\",\"kind\":\"Any\",\"default\":\"wrap\"},{\"name\":\"gap\",\"kind\":\"Any\",\"default\":\"\"},{\"name\":\"justify_content\",\"kind\":\"Any\",\"default\":\"flex-start\"}]},{\"type\":\"model\",\"name\":\"FloatPanel1\",\"properties\":[{\"name\":\"config\",\"kind\":\"Any\",\"default\":{\"type\":\"map\"}},{\"name\":\"contained\",\"kind\":\"Any\",\"default\":true},{\"name\":\"position\",\"kind\":\"Any\",\"default\":\"right-top\"},{\"name\":\"offsetx\",\"kind\":\"Any\",\"default\":null},{\"name\":\"offsety\",\"kind\":\"Any\",\"default\":null},{\"name\":\"theme\",\"kind\":\"Any\",\"default\":\"primary\"},{\"name\":\"status\",\"kind\":\"Any\",\"default\":\"normalized\"}]},{\"type\":\"model\",\"name\":\"GridStack1\",\"properties\":[{\"name\":\"mode\",\"kind\":\"Any\",\"default\":\"warn\"},{\"name\":\"ncols\",\"kind\":\"Any\",\"default\":null},{\"name\":\"nrows\",\"kind\":\"Any\",\"default\":null},{\"name\":\"allow_resize\",\"kind\":\"Any\",\"default\":true},{\"name\":\"allow_drag\",\"kind\":\"Any\",\"default\":true},{\"name\":\"state\",\"kind\":\"Any\",\"default\":[]}]},{\"type\":\"model\",\"name\":\"drag1\",\"properties\":[{\"name\":\"slider_width\",\"kind\":\"Any\",\"default\":5},{\"name\":\"slider_color\",\"kind\":\"Any\",\"default\":\"black\"},{\"name\":\"value\",\"kind\":\"Any\",\"default\":50}]},{\"type\":\"model\",\"name\":\"click1\",\"properties\":[{\"name\":\"terminal_output\",\"kind\":\"Any\",\"default\":\"\"},{\"name\":\"debug_name\",\"kind\":\"Any\",\"default\":\"\"},{\"name\":\"clears\",\"kind\":\"Any\",\"default\":0}]},{\"type\":\"model\",\"name\":\"FastWrapper1\",\"properties\":[{\"name\":\"object\",\"kind\":\"Any\",\"default\":null},{\"name\":\"style\",\"kind\":\"Any\",\"default\":null}]},{\"type\":\"model\",\"name\":\"NotificationAreaBase1\",\"properties\":[{\"name\":\"js_events\",\"kind\":\"Any\",\"default\":{\"type\":\"map\"}},{\"name\":\"position\",\"kind\":\"Any\",\"default\":\"bottom-right\"},{\"name\":\"_clear\",\"kind\":\"Any\",\"default\":0}]},{\"type\":\"model\",\"name\":\"NotificationArea1\",\"properties\":[{\"name\":\"js_events\",\"kind\":\"Any\",\"default\":{\"type\":\"map\"}},{\"name\":\"notifications\",\"kind\":\"Any\",\"default\":[]},{\"name\":\"position\",\"kind\":\"Any\",\"default\":\"bottom-right\"},{\"name\":\"_clear\",\"kind\":\"Any\",\"default\":0},{\"name\":\"types\",\"kind\":\"Any\",\"default\":[{\"type\":\"map\",\"entries\":[[\"type\",\"warning\"],[\"background\",\"#ffc107\"],[\"icon\",{\"type\":\"map\",\"entries\":[[\"className\",\"fas fa-exclamation-triangle\"],[\"tagName\",\"i\"],[\"color\",\"white\"]]}]]},{\"type\":\"map\",\"entries\":[[\"type\",\"info\"],[\"background\",\"#007bff\"],[\"icon\",{\"type\":\"map\",\"entries\":[[\"className\",\"fas fa-info-circle\"],[\"tagName\",\"i\"],[\"color\",\"white\"]]}]]}]}]},{\"type\":\"model\",\"name\":\"Notification\",\"properties\":[{\"name\":\"background\",\"kind\":\"Any\",\"default\":null},{\"name\":\"duration\",\"kind\":\"Any\",\"default\":3000},{\"name\":\"icon\",\"kind\":\"Any\",\"default\":null},{\"name\":\"message\",\"kind\":\"Any\",\"default\":\"\"},{\"name\":\"notification_type\",\"kind\":\"Any\",\"default\":null},{\"name\":\"_destroyed\",\"kind\":\"Any\",\"default\":false}]},{\"type\":\"model\",\"name\":\"TemplateActions1\",\"properties\":[{\"name\":\"open_modal\",\"kind\":\"Any\",\"default\":0},{\"name\":\"close_modal\",\"kind\":\"Any\",\"default\":0}]},{\"type\":\"model\",\"name\":\"BootstrapTemplateActions1\",\"properties\":[{\"name\":\"open_modal\",\"kind\":\"Any\",\"default\":0},{\"name\":\"close_modal\",\"kind\":\"Any\",\"default\":0}]},{\"type\":\"model\",\"name\":\"TemplateEditor1\",\"properties\":[{\"name\":\"layout\",\"kind\":\"Any\",\"default\":[]}]},{\"type\":\"model\",\"name\":\"MaterialTemplateActions1\",\"properties\":[{\"name\":\"open_modal\",\"kind\":\"Any\",\"default\":0},{\"name\":\"close_modal\",\"kind\":\"Any\",\"default\":0}]},{\"type\":\"model\",\"name\":\"copy_to_clipboard1\",\"properties\":[{\"name\":\"fill\",\"kind\":\"Any\",\"default\":\"none\"},{\"name\":\"value\",\"kind\":\"Any\",\"default\":null}]}]}};\n",
       "  var render_items = [{\"docid\":\"1750adcd-4dc1-4fbd-a049-2a7c72aa5e22\",\"roots\":{\"1066af11-080f-4c20-9dc4-8cc90c4d2093\":\"ba9ee8b5-8076-4ae5-84f8-efe8ad902a77\"},\"root_ids\":[\"1066af11-080f-4c20-9dc4-8cc90c4d2093\"]}];\n",
       "  var docs = Object.values(docs_json)\n",
       "  if (!docs) {\n",
       "    return\n",
       "  }\n",
       "  const py_version = docs[0].version.replace('rc', '-rc.').replace('.dev', '-dev.')\n",
       "  async function embed_document(root) {\n",
       "    var Bokeh = get_bokeh(root)\n",
       "    await Bokeh.embed.embed_items_notebook(docs_json, render_items);\n",
       "    for (const render_item of render_items) {\n",
       "      for (const root_id of render_item.root_ids) {\n",
       "\tconst id_el = document.getElementById(root_id)\n",
       "\tif (id_el.children.length && id_el.children[0].hasAttribute('data-root-id')) {\n",
       "\t  const root_el = id_el.children[0]\n",
       "\t  root_el.id = root_el.id + '-rendered'\n",
       "\t  for (const child of root_el.children) {\n",
       "            // Ensure JupyterLab does not capture keyboard shortcuts\n",
       "            // see: https://jupyterlab.readthedocs.io/en/4.1.x/extension/notebook.html#keyboard-interaction-model\n",
       "\t    child.setAttribute('data-lm-suppress-shortcuts', 'true')\n",
       "\t  }\n",
       "\t}\n",
       "      }\n",
       "    }\n",
       "  }\n",
       "  function get_bokeh(root) {\n",
       "    if (root.Bokeh === undefined) {\n",
       "      return null\n",
       "    } else if (root.Bokeh.version !== py_version) {\n",
       "      if (root.Bokeh.versions === undefined || !root.Bokeh.versions.has(py_version)) {\n",
       "\treturn null\n",
       "      }\n",
       "      return root.Bokeh.versions.get(py_version);\n",
       "    } else if (root.Bokeh.version === py_version) {\n",
       "      return root.Bokeh\n",
       "    }\n",
       "    return null\n",
       "  }\n",
       "  function is_loaded(root) {\n",
       "    var Bokeh = get_bokeh(root)\n",
       "    return (Bokeh != null && Bokeh.Panel !== undefined && ( root.Plotly !== undefined) && ( root.Plotly !== undefined) && ( root.Plotly !== undefined) && ( root.Plotly !== undefined) && ( root.Plotly !== undefined) && ( root.Plotly !== undefined) && ( root.Plotly !== undefined) && ( root.Plotly !== undefined) && ( root.Plotly !== undefined) && ( root.Plotly !== undefined) && ( root.Plotly !== undefined) && ( root.Plotly !== undefined) && ( root.Plotly !== undefined) && ( root.Plotly !== undefined) && ( root.Plotly !== undefined))\n",
       "  }\n",
       "  if (is_loaded(root)) {\n",
       "    embed_document(root);\n",
       "  } else {\n",
       "    var attempts = 0;\n",
       "    var timer = setInterval(function(root) {\n",
       "      if (is_loaded(root)) {\n",
       "        clearInterval(timer);\n",
       "        embed_document(root);\n",
       "      } else if (document.readyState == \"complete\") {\n",
       "        attempts++;\n",
       "        if (attempts > 200) {\n",
       "          clearInterval(timer);\n",
       "\t  var Bokeh = get_bokeh(root)\n",
       "\t  if (Bokeh == null || Bokeh.Panel == null) {\n",
       "            console.warn(\"Panel: ERROR: Unable to run Panel code because Bokeh or Panel library is missing\");\n",
       "\t  } else {\n",
       "\t    console.warn(\"Panel: WARNING: Attempting to render but not all required libraries could be resolved.\")\n",
       "\t    embed_document(root)\n",
       "\t  }\n",
       "        }\n",
       "      }\n",
       "    }, 25, root)\n",
       "  }\n",
       "})(window);</script>"
      ]
     },
     "metadata": {
      "application/vnd.holoviews_exec.v0+json": {
       "id": "1066af11-080f-4c20-9dc4-8cc90c4d2093"
      }
     },
     "output_type": "display_data"
    },
    {
     "name": "stderr",
     "output_type": "stream",
     "text": [
      "WARNING:param.panel_extension: holoviews extension not recognized and will be skipped.\n"
     ]
    },
    {
     "data": {
      "application/javascript": "(function(root) {\n  function now() {\n    return new Date();\n  }\n\n  var force = true;\n  var py_version = '3.4.3'.replace('rc', '-rc.').replace('.dev', '-dev.');\n  var reloading = true;\n  var Bokeh = root.Bokeh;\n\n  if (typeof (root._bokeh_timeout) === \"undefined\" || force) {\n    root._bokeh_timeout = Date.now() + 5000;\n    root._bokeh_failed_load = false;\n  }\n\n  function run_callbacks() {\n    try {\n      root._bokeh_onload_callbacks.forEach(function(callback) {\n        if (callback != null)\n          callback();\n      });\n    } finally {\n      delete root._bokeh_onload_callbacks;\n    }\n    console.debug(\"Bokeh: all callbacks have finished\");\n  }\n\n  function load_libs(css_urls, js_urls, js_modules, js_exports, callback) {\n    if (css_urls == null) css_urls = [];\n    if (js_urls == null) js_urls = [];\n    if (js_modules == null) js_modules = [];\n    if (js_exports == null) js_exports = {};\n\n    root._bokeh_onload_callbacks.push(callback);\n\n    if (root._bokeh_is_loading > 0) {\n      console.debug(\"Bokeh: BokehJS is being loaded, scheduling callback at\", now());\n      return null;\n    }\n    if (js_urls.length === 0 && js_modules.length === 0 && Object.keys(js_exports).length === 0) {\n      run_callbacks();\n      return null;\n    }\n    if (!reloading) {\n      console.debug(\"Bokeh: BokehJS not loaded, scheduling load and callback at\", now());\n    }\n\n    function on_load() {\n      root._bokeh_is_loading--;\n      if (root._bokeh_is_loading === 0) {\n        console.debug(\"Bokeh: all BokehJS libraries/stylesheets loaded\");\n        run_callbacks()\n      }\n    }\n    window._bokeh_on_load = on_load\n\n    function on_error() {\n      console.error(\"failed to load \" + url);\n    }\n\n    var skip = [];\n    if (window.requirejs) {\n      window.requirejs.config({'packages': {}, 'paths': {'plotly': 'https://cdn.plot.ly/plotly-2.31.1.min'}, 'shim': {}});\n      require([\"plotly\"], function(Plotly) {\n\twindow.Plotly = Plotly\n\ton_load()\n      })\n      root._bokeh_is_loading = css_urls.length + 1;\n    } else {\n      root._bokeh_is_loading = css_urls.length + js_urls.length + js_modules.length + Object.keys(js_exports).length;\n    }\n\n    var existing_stylesheets = []\n    var links = document.getElementsByTagName('link')\n    for (var i = 0; i < links.length; i++) {\n      var link = links[i]\n      if (link.href != null) {\n\texisting_stylesheets.push(link.href)\n      }\n    }\n    for (var i = 0; i < css_urls.length; i++) {\n      var url = css_urls[i];\n      if (existing_stylesheets.indexOf(url) !== -1) {\n\ton_load()\n\tcontinue;\n      }\n      const element = document.createElement(\"link\");\n      element.onload = on_load;\n      element.onerror = on_error;\n      element.rel = \"stylesheet\";\n      element.type = \"text/css\";\n      element.href = url;\n      console.debug(\"Bokeh: injecting link tag for BokehJS stylesheet: \", url);\n      document.body.appendChild(element);\n    }    if (((window.Plotly !== undefined) && (!(window.Plotly instanceof HTMLElement))) || window.requirejs) {\n      var urls = ['https://cdn.holoviz.org/panel/1.4.5/dist/bundled/plotlyplot/plotly-2.31.1.min.js'];\n      for (var i = 0; i < urls.length; i++) {\n        skip.push(urls[i])\n      }\n    }    var existing_scripts = []\n    var scripts = document.getElementsByTagName('script')\n    for (var i = 0; i < scripts.length; i++) {\n      var script = scripts[i]\n      if (script.src != null) {\n\texisting_scripts.push(script.src)\n      }\n    }\n    for (var i = 0; i < js_urls.length; i++) {\n      var url = js_urls[i];\n      if (skip.indexOf(url) !== -1 || existing_scripts.indexOf(url) !== -1) {\n\tif (!window.requirejs) {\n\t  on_load();\n\t}\n\tcontinue;\n      }\n      var element = document.createElement('script');\n      element.onload = on_load;\n      element.onerror = on_error;\n      element.async = false;\n      element.src = url;\n      console.debug(\"Bokeh: injecting script tag for BokehJS library: \", url);\n      document.head.appendChild(element);\n    }\n    for (var i = 0; i < js_modules.length; i++) {\n      var url = js_modules[i];\n      if (skip.indexOf(url) !== -1 || existing_scripts.indexOf(url) !== -1) {\n\tif (!window.requirejs) {\n\t  on_load();\n\t}\n\tcontinue;\n      }\n      var element = document.createElement('script');\n      element.onload = on_load;\n      element.onerror = on_error;\n      element.async = false;\n      element.src = url;\n      element.type = \"module\";\n      console.debug(\"Bokeh: injecting script tag for BokehJS library: \", url);\n      document.head.appendChild(element);\n    }\n    for (const name in js_exports) {\n      var url = js_exports[name];\n      if (skip.indexOf(url) >= 0 || root[name] != null) {\n\tif (!window.requirejs) {\n\t  on_load();\n\t}\n\tcontinue;\n      }\n      var element = document.createElement('script');\n      element.onerror = on_error;\n      element.async = false;\n      element.type = \"module\";\n      console.debug(\"Bokeh: injecting script tag for BokehJS library: \", url);\n      element.textContent = `\n      import ${name} from \"${url}\"\n      window.${name} = ${name}\n      window._bokeh_on_load()\n      `\n      document.head.appendChild(element);\n    }\n    if (!js_urls.length && !js_modules.length) {\n      on_load()\n    }\n  };\n\n  function inject_raw_css(css) {\n    const element = document.createElement(\"style\");\n    element.appendChild(document.createTextNode(css));\n    document.body.appendChild(element);\n  }\n\n  var js_urls = [\"https://cdn.holoviz.org/panel/1.4.5/dist/bundled/jquery/jquery.slim.min.js\", \"https://cdn.holoviz.org/panel/1.4.5/dist/bundled/plotlyplot/plotly-2.31.1.min.js\"];\n  var js_modules = [];\n  var js_exports = {};\n  var css_urls = [];\n  var inline_js = [    function(Bokeh) {\n      Bokeh.set_log_level(\"info\");\n    },\nfunction(Bokeh) {} // ensure no trailing comma for IE\n  ];\n\n  function run_inline_js() {\n    if ((root.Bokeh !== undefined) || (force === true)) {\n      for (var i = 0; i < inline_js.length; i++) {\n\ttry {\n          inline_js[i].call(root, root.Bokeh);\n\t} catch(e) {\n\t  if (!reloading) {\n\t    throw e;\n\t  }\n\t}\n      }\n      // Cache old bokeh versions\n      if (Bokeh != undefined && !reloading) {\n\tvar NewBokeh = root.Bokeh;\n\tif (Bokeh.versions === undefined) {\n\t  Bokeh.versions = new Map();\n\t}\n\tif (NewBokeh.version !== Bokeh.version) {\n\t  Bokeh.versions.set(NewBokeh.version, NewBokeh)\n\t}\n\troot.Bokeh = Bokeh;\n      }} else if (Date.now() < root._bokeh_timeout) {\n      setTimeout(run_inline_js, 100);\n    } else if (!root._bokeh_failed_load) {\n      console.log(\"Bokeh: BokehJS failed to load within specified timeout.\");\n      root._bokeh_failed_load = true;\n    }\n    root._bokeh_is_initializing = false\n  }\n\n  function load_or_wait() {\n    // Implement a backoff loop that tries to ensure we do not load multiple\n    // versions of Bokeh and its dependencies at the same time.\n    // In recent versions we use the root._bokeh_is_initializing flag\n    // to determine whether there is an ongoing attempt to initialize\n    // bokeh, however for backward compatibility we also try to ensure\n    // that we do not start loading a newer (Panel>=1.0 and Bokeh>3) version\n    // before older versions are fully initialized.\n    if (root._bokeh_is_initializing && Date.now() > root._bokeh_timeout) {\n      root._bokeh_is_initializing = false;\n      root._bokeh_onload_callbacks = undefined;\n      console.log(\"Bokeh: BokehJS was loaded multiple times but one version failed to initialize.\");\n      load_or_wait();\n    } else if (root._bokeh_is_initializing || (typeof root._bokeh_is_initializing === \"undefined\" && root._bokeh_onload_callbacks !== undefined)) {\n      setTimeout(load_or_wait, 100);\n    } else {\n      root._bokeh_is_initializing = true\n      root._bokeh_onload_callbacks = []\n      var bokeh_loaded = Bokeh != null && (Bokeh.version === py_version || (Bokeh.versions !== undefined && Bokeh.versions.has(py_version)));\n      if (!reloading && !bokeh_loaded) {\n\troot.Bokeh = undefined;\n      }\n      load_libs(css_urls, js_urls, js_modules, js_exports, function() {\n\tconsole.debug(\"Bokeh: BokehJS plotting callback run at\", now());\n\trun_inline_js();\n      });\n    }\n  }\n  // Give older versions of the autoload script a head-start to ensure\n  // they initialize before we start loading newer version.\n  setTimeout(load_or_wait, 100)\n}(window));",
      "application/vnd.holoviews_load.v0+json": ""
     },
     "metadata": {},
     "output_type": "display_data"
    },
    {
     "data": {
      "application/javascript": "\nif ((window.PyViz === undefined) || (window.PyViz instanceof HTMLElement)) {\n  window.PyViz = {comms: {}, comm_status:{}, kernels:{}, receivers: {}, plot_index: []}\n}\n\n\n    function JupyterCommManager() {\n    }\n\n    JupyterCommManager.prototype.register_target = function(plot_id, comm_id, msg_handler) {\n      if (window.comm_manager || ((window.Jupyter !== undefined) && (Jupyter.notebook.kernel != null))) {\n        var comm_manager = window.comm_manager || Jupyter.notebook.kernel.comm_manager;\n        comm_manager.register_target(comm_id, function(comm) {\n          comm.on_msg(msg_handler);\n        });\n      } else if ((plot_id in window.PyViz.kernels) && (window.PyViz.kernels[plot_id])) {\n        window.PyViz.kernels[plot_id].registerCommTarget(comm_id, function(comm) {\n          comm.onMsg = msg_handler;\n        });\n      } else if (typeof google != 'undefined' && google.colab.kernel != null) {\n        google.colab.kernel.comms.registerTarget(comm_id, (comm) => {\n          var messages = comm.messages[Symbol.asyncIterator]();\n          function processIteratorResult(result) {\n            var message = result.value;\n            console.log(message)\n            var content = {data: message.data, comm_id};\n            var buffers = []\n            for (var buffer of message.buffers || []) {\n              buffers.push(new DataView(buffer))\n            }\n            var metadata = message.metadata || {};\n            var msg = {content, buffers, metadata}\n            msg_handler(msg);\n            return messages.next().then(processIteratorResult);\n          }\n          return messages.next().then(processIteratorResult);\n        })\n      }\n    }\n\n    JupyterCommManager.prototype.get_client_comm = function(plot_id, comm_id, msg_handler) {\n      if (comm_id in window.PyViz.comms) {\n        return window.PyViz.comms[comm_id];\n      } else if (window.comm_manager || ((window.Jupyter !== undefined) && (Jupyter.notebook.kernel != null))) {\n        var comm_manager = window.comm_manager || Jupyter.notebook.kernel.comm_manager;\n        var comm = comm_manager.new_comm(comm_id, {}, {}, {}, comm_id);\n        if (msg_handler) {\n          comm.on_msg(msg_handler);\n        }\n      } else if ((plot_id in window.PyViz.kernels) && (window.PyViz.kernels[plot_id])) {\n        var comm = window.PyViz.kernels[plot_id].connectToComm(comm_id);\n        comm.open();\n        if (msg_handler) {\n          comm.onMsg = msg_handler;\n        }\n      } else if (typeof google != 'undefined' && google.colab.kernel != null) {\n        var comm_promise = google.colab.kernel.comms.open(comm_id)\n        comm_promise.then((comm) => {\n          window.PyViz.comms[comm_id] = comm;\n          if (msg_handler) {\n            var messages = comm.messages[Symbol.asyncIterator]();\n            function processIteratorResult(result) {\n              var message = result.value;\n              var content = {data: message.data};\n              var metadata = message.metadata || {comm_id};\n              var msg = {content, metadata}\n              msg_handler(msg);\n              return messages.next().then(processIteratorResult);\n            }\n            return messages.next().then(processIteratorResult);\n          }\n        })\n        var sendClosure = (data, metadata, buffers, disposeOnDone) => {\n          return comm_promise.then((comm) => {\n            comm.send(data, metadata, buffers, disposeOnDone);\n          });\n        };\n        var comm = {\n          send: sendClosure\n        };\n      }\n      window.PyViz.comms[comm_id] = comm;\n      return comm;\n    }\n    window.PyViz.comm_manager = new JupyterCommManager();\n    \n\n\nvar JS_MIME_TYPE = 'application/javascript';\nvar HTML_MIME_TYPE = 'text/html';\nvar EXEC_MIME_TYPE = 'application/vnd.holoviews_exec.v0+json';\nvar CLASS_NAME = 'output';\n\n/**\n * Render data to the DOM node\n */\nfunction render(props, node) {\n  var div = document.createElement(\"div\");\n  var script = document.createElement(\"script\");\n  node.appendChild(div);\n  node.appendChild(script);\n}\n\n/**\n * Handle when a new output is added\n */\nfunction handle_add_output(event, handle) {\n  var output_area = handle.output_area;\n  var output = handle.output;\n  if ((output.data == undefined) || (!output.data.hasOwnProperty(EXEC_MIME_TYPE))) {\n    return\n  }\n  var id = output.metadata[EXEC_MIME_TYPE][\"id\"];\n  var toinsert = output_area.element.find(\".\" + CLASS_NAME.split(' ')[0]);\n  if (id !== undefined) {\n    var nchildren = toinsert.length;\n    var html_node = toinsert[nchildren-1].children[0];\n    html_node.innerHTML = output.data[HTML_MIME_TYPE];\n    var scripts = [];\n    var nodelist = html_node.querySelectorAll(\"script\");\n    for (var i in nodelist) {\n      if (nodelist.hasOwnProperty(i)) {\n        scripts.push(nodelist[i])\n      }\n    }\n\n    scripts.forEach( function (oldScript) {\n      var newScript = document.createElement(\"script\");\n      var attrs = [];\n      var nodemap = oldScript.attributes;\n      for (var j in nodemap) {\n        if (nodemap.hasOwnProperty(j)) {\n          attrs.push(nodemap[j])\n        }\n      }\n      attrs.forEach(function(attr) { newScript.setAttribute(attr.name, attr.value) });\n      newScript.appendChild(document.createTextNode(oldScript.innerHTML));\n      oldScript.parentNode.replaceChild(newScript, oldScript);\n    });\n    if (JS_MIME_TYPE in output.data) {\n      toinsert[nchildren-1].children[1].textContent = output.data[JS_MIME_TYPE];\n    }\n    output_area._hv_plot_id = id;\n    if ((window.Bokeh !== undefined) && (id in Bokeh.index)) {\n      window.PyViz.plot_index[id] = Bokeh.index[id];\n    } else {\n      window.PyViz.plot_index[id] = null;\n    }\n  } else if (output.metadata[EXEC_MIME_TYPE][\"server_id\"] !== undefined) {\n    var bk_div = document.createElement(\"div\");\n    bk_div.innerHTML = output.data[HTML_MIME_TYPE];\n    var script_attrs = bk_div.children[0].attributes;\n    for (var i = 0; i < script_attrs.length; i++) {\n      toinsert[toinsert.length - 1].childNodes[1].setAttribute(script_attrs[i].name, script_attrs[i].value);\n    }\n    // store reference to server id on output_area\n    output_area._bokeh_server_id = output.metadata[EXEC_MIME_TYPE][\"server_id\"];\n  }\n}\n\n/**\n * Handle when an output is cleared or removed\n */\nfunction handle_clear_output(event, handle) {\n  var id = handle.cell.output_area._hv_plot_id;\n  var server_id = handle.cell.output_area._bokeh_server_id;\n  if (((id === undefined) || !(id in PyViz.plot_index)) && (server_id !== undefined)) { return; }\n  var comm = window.PyViz.comm_manager.get_client_comm(\"hv-extension-comm\", \"hv-extension-comm\", function () {});\n  if (server_id !== null) {\n    comm.send({event_type: 'server_delete', 'id': server_id});\n    return;\n  } else if (comm !== null) {\n    comm.send({event_type: 'delete', 'id': id});\n  }\n  delete PyViz.plot_index[id];\n  if ((window.Bokeh !== undefined) & (id in window.Bokeh.index)) {\n    var doc = window.Bokeh.index[id].model.document\n    doc.clear();\n    const i = window.Bokeh.documents.indexOf(doc);\n    if (i > -1) {\n      window.Bokeh.documents.splice(i, 1);\n    }\n  }\n}\n\n/**\n * Handle kernel restart event\n */\nfunction handle_kernel_cleanup(event, handle) {\n  delete PyViz.comms[\"hv-extension-comm\"];\n  window.PyViz.plot_index = {}\n}\n\n/**\n * Handle update_display_data messages\n */\nfunction handle_update_output(event, handle) {\n  handle_clear_output(event, {cell: {output_area: handle.output_area}})\n  handle_add_output(event, handle)\n}\n\nfunction register_renderer(events, OutputArea) {\n  function append_mime(data, metadata, element) {\n    // create a DOM node to render to\n    var toinsert = this.create_output_subarea(\n    metadata,\n    CLASS_NAME,\n    EXEC_MIME_TYPE\n    );\n    this.keyboard_manager.register_events(toinsert);\n    // Render to node\n    var props = {data: data, metadata: metadata[EXEC_MIME_TYPE]};\n    render(props, toinsert[0]);\n    element.append(toinsert);\n    return toinsert\n  }\n\n  events.on('output_added.OutputArea', handle_add_output);\n  events.on('output_updated.OutputArea', handle_update_output);\n  events.on('clear_output.CodeCell', handle_clear_output);\n  events.on('delete.Cell', handle_clear_output);\n  events.on('kernel_ready.Kernel', handle_kernel_cleanup);\n\n  OutputArea.prototype.register_mime_type(EXEC_MIME_TYPE, append_mime, {\n    safe: true,\n    index: 0\n  });\n}\n\nif (window.Jupyter !== undefined) {\n  try {\n    var events = require('base/js/events');\n    var OutputArea = require('notebook/js/outputarea').OutputArea;\n    if (OutputArea.prototype.mime_types().indexOf(EXEC_MIME_TYPE) == -1) {\n      register_renderer(events, OutputArea);\n    }\n  } catch(err) {\n  }\n}\n",
      "application/vnd.holoviews_load.v0+json": ""
     },
     "metadata": {},
     "output_type": "display_data"
    },
    {
     "data": {
      "text/html": [
       "<style>*[data-root-id],\n",
       "*[data-root-id] > * {\n",
       "  box-sizing: border-box;\n",
       "  font-family: var(--jp-ui-font-family);\n",
       "  font-size: var(--jp-ui-font-size1);\n",
       "  color: var(--vscode-editor-foreground, var(--jp-ui-font-color1));\n",
       "}\n",
       "\n",
       "/* Override VSCode background color */\n",
       ".cell-output-ipywidget-background:has(\n",
       "    > .cell-output-ipywidget-background > .lm-Widget > *[data-root-id]\n",
       "  ),\n",
       ".cell-output-ipywidget-background:has(> .lm-Widget > *[data-root-id]) {\n",
       "  background-color: transparent !important;\n",
       "}\n",
       "</style>"
      ]
     },
     "metadata": {},
     "output_type": "display_data"
    },
    {
     "name": "stdout",
     "output_type": "stream",
     "text": [
      "Error loading data: [Errno 2] No such file or directory: '../data/Meteorite_Landings.csv'\n",
      "Total de registros de meteoritos: 0\n"
     ]
    },
    {
     "data": {
      "text/html": [
       "<div>\n",
       "<style scoped>\n",
       "    .dataframe tbody tr th:only-of-type {\n",
       "        vertical-align: middle;\n",
       "    }\n",
       "\n",
       "    .dataframe tbody tr th {\n",
       "        vertical-align: top;\n",
       "    }\n",
       "\n",
       "    .dataframe thead th {\n",
       "        text-align: right;\n",
       "    }\n",
       "</style>\n",
       "<table border=\"1\" class=\"dataframe\">\n",
       "  <thead>\n",
       "    <tr style=\"text-align: right;\">\n",
       "      <th></th>\n",
       "    </tr>\n",
       "  </thead>\n",
       "  <tbody>\n",
       "  </tbody>\n",
       "</table>\n",
       "</div>"
      ],
      "text/plain": [
       "Empty DataFrame\n",
       "Columns: []\n",
       "Index: []"
      ]
     },
     "execution_count": 20,
     "metadata": {},
     "output_type": "execute_result"
    }
   ],
   "source": [
    "import pandas as pd\n",
    "import numpy as np\n",
    "import panel as pn\n",
    "import hvplot.pandas  # habilita .hvplot en DataFrames\n",
    "import holoviews as hv\n",
    "import colorcet as cc\n",
    "import folium\n",
    "\n",
    "import sys\n",
    "import os\n",
    "os.chdir('../')  # sbimos un nivel a la raíz del proyecto\n",
    "\n",
    "\n",
    "# Ruta absoluta a la carpeta \"src\" (asumiendo que notebooks y src están al mismo nivel)\n",
    "src_path = os.path.abspath(os.path.join('..', 'src'))\n",
    "\n",
    "# Añadimos la ruta a sys.path si no está incluida\n",
    "if src_path not in sys.path:\n",
    "    sys.path.append(src_path)\n",
    "\n",
    "# Ahora podemos importar\n",
    "from data_loader import load_meteorite_data\n",
    "from metrics import geographic_distribution_metrics\n",
    "\n",
    "\n",
    "# Extensión de Panel para gráficos (Plotly, Holoviews/Bokeh) en el notebook\n",
    "pn.extension('plotly', 'holoviews', sizing_mode=\"stretch_width\")\n",
    "\n",
    "# Cargar el dataset\n",
    "meteorites = load_meteorite_data(file_path='/data/Meteorite_Landings.csv')\n",
    "print(\"Total de registros de meteoritos:\", len(meteorites))\n",
    "meteorites.head(5)"
   ]
  },
  {
   "cell_type": "markdown",
   "id": "2df5abcc",
   "metadata": {},
   "source": [
    "### Descripción rápida de columnas numéricas"
   ]
  },
  {
   "cell_type": "code",
   "execution_count": null,
   "id": "5524dea8",
   "metadata": {
    "executionInfo": {}
   },
   "outputs": [],
   "source": [
    "meteorites[['mass', 'year', 'reclat', 'reclong']].describe()"
   ]
  },
  {
   "cell_type": "markdown",
   "id": "e63c4217",
   "metadata": {},
   "source": [
    "## 2. Definición de Filtros (Widgets con Panel)\n",
    "\n",
    "Crearemos los controles de usuario (sliders, multiselect, checkboxes) para filtrar:\n",
    "- **Año** (rango slider)\n",
    "- **Masa (g)** (rango slider)\n",
    "- **Clasificación** (multiselect)\n",
    "- **Tipo** (Fell/Found) (checkbox group)\n",
    "\n",
    "Definimos además una función `filter_data(...)` que aplica estos filtros a un `DataFrame` y devuelve el subconjunto resultante."
   ]
  },
  {
   "cell_type": "code",
   "execution_count": null,
   "id": "e81f56ff",
   "metadata": {
    "executionInfo": {}
   },
   "outputs": [
    {
     "name": "stdout",
     "output_type": "stream",
     "text": [
      "Registros tras filtro inicial (debería ser igual al total): "
     ]
    }
   ],
   "source": [
    "import panel.widgets as pw\n",
    "\n",
    "# Rango de años\n",
    "year_min, year_max = int(meteorites['year'].min()), int(meteorites['year'].max())\n",
    "year_slider = pw.IntRangeSlider(name='Año', start=year_min, end=year_max, value=(year_min, year_max), step=1)\n",
    "\n",
    "# Rango de masas\n",
    "mass_min, mass_max = meteorites['mass'].min(), meteorites['mass'].max()\n",
    "mass_slider = pw.FloatRangeSlider(\n",
    "    name='Masa (g)', start=mass_min, end=mass_max, value=(mass_min, mass_max), step=mass_max/1000\n",
    ")\n",
    "\n",
    "# Clasificaciones (recclass)\n",
    "classes = sorted(meteorites['recclass'].unique())\n",
    "class_select = pw.MultiSelect(name='Clasificación', options=classes, value=classes[:], size=6)\n",
    "\n",
    "# Tipo (Fell / Found)\n",
    "types = meteorites['fall'].unique().tolist()  # en teoría, [\"Fell\", \"Found\"]\n",
    "type_select = pw.CheckBoxGroup(name='Tipo', options=types, value=types[:])\n",
    "\n",
    "# Función de filtrado\n",
    "def filter_data(df, year_range, mass_range, classes_selected, types_selected):\n",
    "    df_filtered = df[(df['year'] >= year_range[0]) & (df['year'] <= year_range[1])]\n",
    "    df_filtered = df_filtered[(df_filtered['mass'] >= mass_range[0]) & (df_filtered['mass'] <= mass_range[1])]\n",
    "    if classes_selected:\n",
    "        df_filtered = df_filtered[df_filtered['recclass'].isin(classes_selected)]\n",
    "    if types_selected:\n",
    "        df_filtered = df_filtered[df_filtered['fall'].isin(types_selected)]\n",
    "    return df_filtered\n",
    "\n",
    "# Probar función de filtro con valores iniciales\n",
    "meteorites_filtered = filter_data(\n",
    "    meteorites, year_slider.value, mass_slider.value, class_select.value, type_select.value\n",
    ")\n",
    "print(\"Registros tras filtro inicial (debería ser igual al total):\", len(meteorites_filtered))\n",
    "meteorites_filtered.head(3)"
   ]
  },
  {
   "cell_type": "markdown",
   "id": "7ae95a2f",
   "metadata": {},
   "source": [
    "## 3. Visualizaciones Interactivas\n",
    "\n",
    "Aquí creamos diversas funciones que generan gráficos en función de un DataFrame filtrado. Luego, usando `pn.bind`, las enlazamos a la salida de `filter_data(...)`.\n",
    "\n",
    "### 3.1 Evolución Temporal (cantidad vs. masa por año)\n",
    "\n",
    "Usaremos Plotly para generar un gráfico con dos ejes Y:\n",
    "- Eje principal para la **cantidad de meteoritos** por año\n",
    "- Eje secundario (derecha) para la **masa total** de meteoritos por año"
   ]
  },
  {
   "cell_type": "code",
   "execution_count": null,
   "id": "929b75d5",
   "metadata": {
    "executionInfo": {}
   },
   "outputs": [],
   "source": [
    "import plotly.graph_objs as go\n",
    "from panel import bind\n",
    "\n",
    "def make_timeseries_plot(df):\n",
    "    by_year = df.groupby('year').agg(\n",
    "        meteorite_count=('name', 'count'),\n",
    "        total_mass=('mass', 'sum')\n",
    "    ).reset_index()\n",
    "    if by_year.empty:\n",
    "        fig = go.Figure()\n",
    "        fig.update_layout(title=\"Evolución temporal (sin datos)\")\n",
    "        return fig\n",
    "\n",
    "    fig = go.Figure()\n",
    "\n",
    "    # Cantidad de meteoritos (eje y principal)\n",
    "    fig.add_trace(\n",
    "        go.Scatter(x=by_year['year'], y=by_year['meteorite_count'], mode='lines+markers',\n",
    "                   name='Cantidad', marker_color='blue')\n",
    "    )\n",
    "\n",
    "    # Masa total (eje y secundario)\n",
    "    fig.add_trace(\n",
    "        go.Scatter(x=by_year['year'], y=by_year['total_mass'], mode='lines+markers',\n",
    "                   name='Masa total (g)', marker_color='red', yaxis='y2')\n",
    "    )\n",
    "\n",
    "    # Configurar layout con doble eje Y\n",
    "    fig.update_layout(\n",
    "        title=\"Meteoritos por año vs Masa total por año\",\n",
    "        xaxis_title=\"Año\",\n",
    "        yaxis=dict(title=\"Cantidad de meteoritos\"),\n",
    "        yaxis2=dict(title=\"Masa total (g)\", overlaying='y', side='right'),\n",
    "        legend=dict(x=0.01, y=0.95)\n",
    "    )\n",
    "    return fig\n",
    "\n",
    "# Vincular\n",
    "timeseries_plot = pn.bind(\n",
    "    make_timeseries_plot,\n",
    "    df=pn.bind(\n",
    "        filter_data,\n",
    "        meteorites,\n",
    "        year_slider,\n",
    "        mass_slider,\n",
    "        class_select,\n",
    "        type_select\n",
    "    )\n",
    ")"
   ]
  },
  {
   "cell_type": "markdown",
   "id": "0a370a08",
   "metadata": {},
   "source": [
    "### 3.2 Histograma de la distribución de masas (escala logarítmica)\n",
    "\n",
    "Utilizamos `hvPlot` para crear un histograma con `logy=True`."
   ]
  },
  {
   "cell_type": "code",
   "execution_count": null,
   "id": "b7950dcb",
   "metadata": {
    "executionInfo": {}
   },
   "outputs": [],
   "source": [
    "def make_mass_histogram(df):\n",
    "    if df.empty or df['mass'].dropna().empty:\n",
    "        return hv.Curve([]).opts(height=300, width=400, title=\"Histograma de masas (sin datos)\")\n",
    "    # Histograma hvPlot con eje Y en escala log\n",
    "    hist = df.hvplot.hist(\n",
    "        'mass', bins=50, logy=True,\n",
    "        height=300, width=400,\n",
    "        title=\"Distribución de masas de meteoritos (log y)\"\n",
    "    )\n",
    "    return hist\n",
    "\n",
    "mass_hist_plot = pn.bind(\n",
    "    make_mass_histogram,\n",
    "    df=pn.bind(\n",
    "        filter_data,\n",
    "        meteorites,\n",
    "        year_slider,\n",
    "        mass_slider,\n",
    "        class_select,\n",
    "        type_select\n",
    "    )\n",
    ")"
   ]
  },
  {
   "cell_type": "markdown",
   "id": "5a95f533",
   "metadata": {},
   "source": [
    "### 3.3 Diagrama de barras (Top 10 clasificaciones)\n",
    "\n",
    "Muestra los 10 tipos de meteoritos más frecuentes en el subset filtrado, con hvPlot."
   ]
  },
  {
   "cell_type": "code",
   "execution_count": null,
   "id": "4b81c467",
   "metadata": {
    "executionInfo": {}
   },
   "outputs": [],
   "source": [
    "def make_classification_bar(df):\n",
    "    if df.empty:\n",
    "        return hv.Curve([]).opts(height=300, width=400, title=\"Clasificaciones (sin datos)\")\n",
    "    # Contar recclass\n",
    "    top_classes = df['recclass'].value_counts().nlargest(10)\n",
    "    class_df = top_classes.reset_index()\n",
    "    class_df.columns = ['Clasificación', 'Cuenta']\n",
    "    bars = class_df.hvplot.bar(\n",
    "        x='Clasificación', y='Cuenta', rot=45,\n",
    "        height=300, width=400,\n",
    "        title=\"Top 10 clasificaciones de meteoritos\"\n",
    "    )\n",
    "    return bars\n",
    "\n",
    "class_bar_plot = pn.bind(\n",
    "    make_classification_bar,\n",
    "    df=pn.bind(\n",
    "        filter_data,\n",
    "        meteorites,\n",
    "        year_slider,\n",
    "        mass_slider,\n",
    "        class_select,\n",
    "        type_select\n",
    "    )\n",
    ")"
   ]
  },
  {
   "cell_type": "markdown",
   "id": "ec12a20c",
   "metadata": {},
   "source": [
    "### 3.4 Mapa global interactivo (Folium)\n",
    "\n",
    "Se muestra un mapa con Marcadores, usando `CircleMarker` para cada meteorito. Se utiliza `MarkerCluster` para agrupar puntos cercanos."
   ]
  },
  {
   "cell_type": "code",
   "execution_count": null,
   "id": "3745f231",
   "metadata": {
    "executionInfo": {}
   },
   "outputs": [],
   "source": [
    "from folium.plugins import MarkerCluster\n",
    "\n",
    "def make_map(df):\n",
    "    m = folium.Map(location=[20, 0], zoom_start=2)  # Mapa centrado en [lat=20, lon=0]\n",
    "    marker_cluster = MarkerCluster().add_to(m)\n",
    "    if df.empty:\n",
    "        folium.Marker(location=[0, 0], popup=\"No hay meteoritos en este rango\").add_to(marker_cluster)\n",
    "        return m\n",
    "\n",
    "    for _, row in df.iterrows():\n",
    "        lat, lon = row.get('reclat'), row.get('reclong')\n",
    "        if pd.isna(lat) or pd.isna(lon):\n",
    "            continue\n",
    "        name = row.get('name', 'Unknown')\n",
    "        mass = row.get('mass', 'N/A')\n",
    "        year = row.get('year', 'N/A')\n",
    "        mtype = row.get('fall', '')  # Fell or Found\n",
    "        recclass = row.get('recclass', '')\n",
    "        color = 'red' if mtype == 'Fell' else 'blue'\n",
    "        popup_text = f\"<b>{name}</b><br>Año: {year}<br>Masa: {mass} g<br>Clasificación: {recclass}\"\n",
    "\n",
    "        folium.CircleMarker(\n",
    "            location=[lat, lon],\n",
    "            radius=3,\n",
    "            color=color,\n",
    "            fill=True,\n",
    "            fill_opacity=0.7,\n",
    "            popup=popup_text,\n",
    "            tooltip=str(recclass)\n",
    "        ).add_to(marker_cluster)\n",
    "    return m\n",
    "\n",
    "meteorite_map = pn.bind(\n",
    "    make_map,\n",
    "    df=pn.bind(\n",
    "        filter_data,\n",
    "        meteorites,\n",
    "        year_slider,\n",
    "        mass_slider,\n",
    "        class_select,\n",
    "        type_select\n",
    "    )\n",
    ")"
   ]
  },
  {
   "cell_type": "markdown",
   "id": "8f9bbd40",
   "metadata": {},
   "source": [
    "## 4. Panel de Métricas\n",
    "\n",
    "Calculamos y desplegamos:\n",
    "- Estadísticas descriptivas (media, mediana, std) de la masa.\n",
    "- Correlaciones entre variables numéricas y heatmap.\n",
    "- Métricas espaciales.\n"
   ]
  },
  {
   "cell_type": "code",
   "execution_count": null,
   "id": "d6989d4b",
   "metadata": {
    "executionInfo": {}
   },
   "outputs": [],
   "source": [
    "# 4.1 Estadísticas descriptivas\n",
    "def descriptive_stats(df):\n",
    "    if df.empty:\n",
    "        return pd.DataFrame(columns=[\"Grupo\", \"Media (g)\", \"Mediana (g)\", \"Desvío Std (g)\"])\n",
    "    # Estadísticas globales\n",
    "    global_stats = df['mass'].agg(['mean', 'median', 'std'])\n",
    "    # Por tipo Fell/Found\n",
    "    type_stats = df.groupby('fall')['mass'].agg(['mean', 'median', 'std'])\n",
    "    type_stats = type_stats.rename(index=str).reset_index()\n",
    "    type_stats = type_stats.rename(columns={\n",
    "        'fall': 'Grupo',\n",
    "        'mean': 'Media (g)',\n",
    "        'median': 'Mediana (g)',\n",
    "        'std': 'Desvío Std (g)'\n",
    "    })\n",
    "    # Fila global\n",
    "    global_row = {\n",
    "        'Grupo': 'Global',\n",
    "        'Media (g)': global_stats['mean'],\n",
    "        'Mediana (g)': global_stats['median'],\n",
    "        'Desvío Std (g)': global_stats['std']\n",
    "    }\n",
    "    type_stats = type_stats.append(global_row, ignore_index=True)\n",
    "    # Redondear\n",
    "    for col in [\"Media (g)\", \"Mediana (g)\", \"Desvío Std (g)\"]:\n",
    "        type_stats[col] = type_stats[col].round(2)\n",
    "    return type_stats\n",
    "\n",
    "stats_df = pn.bind(\n",
    "    descriptive_stats,\n",
    "    df=pn.bind(\n",
    "        filter_data,\n",
    "        meteorites,\n",
    "        year_slider,\n",
    "        mass_slider,\n",
    "        class_select,\n",
    "        type_select\n",
    "    )\n",
    ")"
   ]
  },
  {
   "cell_type": "code",
   "execution_count": null,
   "id": "2dcea4cb",
   "metadata": {
    "executionInfo": {}
   },
   "outputs": [],
   "source": [
    "# 4.2 Correlaciones numéricas + Heatmap\n",
    "def correlation_matrix(df):\n",
    "    numeric_cols = []\n",
    "    for col in ['mass', 'year', 'reclat', 'reclong']:\n",
    "        if col in df.columns:\n",
    "            numeric_cols.append(col)\n",
    "    if not numeric_cols:\n",
    "        return pd.DataFrame()  # no numeric data\n",
    "    corr_matrix = df[numeric_cols].corr().round(2)\n",
    "    return corr_matrix\n",
    "\n",
    "corr_df = pn.bind(\n",
    "    correlation_matrix,\n",
    "    df=pn.bind(\n",
    "        filter_data,\n",
    "        meteorites,\n",
    "        year_slider,\n",
    "        mass_slider,\n",
    "        class_select,\n",
    "        type_select\n",
    "    )\n",
    ")\n",
    "\n",
    "def make_correlation_heatmap(df):\n",
    "    corr = correlation_matrix(df)\n",
    "    if corr.empty:\n",
    "        return hv.Curve([]).opts(title=\"Heatmap de correlaciones (no disponible)\", height=300, width=400)\n",
    "    # Convertir a formato largo\n",
    "    corr_values = corr.stack().reset_index()\n",
    "    corr_values.columns = ['Var1', 'Var2', 'Correlacion']\n",
    "    # Heatmap con hvplot\n",
    "    cmap_use = cc.coolwarm if hasattr(cc, \"coolwarm\") else \"RdBu\"\n",
    "    heatmap = corr_values.hvplot.heatmap(\n",
    "        x='Var1', y='Var2', C='Correlacion', cmap=cmap_use,\n",
    "        clim=(-1,1), colorbar=True, height=300, width=400,\n",
    "        title=\"Matriz de correlación\"\n",
    "    )\n",
    "    heatmap = heatmap.opts(xrotation=45)\n",
    "    return heatmap\n",
    "\n",
    "corr_heatmap = pn.bind(\n",
    "    make_correlation_heatmap,\n",
    "    df=pn.bind(\n",
    "        filter_data,\n",
    "        meteorites,\n",
    "        year_slider,\n",
    "        mass_slider,\n",
    "        class_select,\n",
    "        type_select\n",
    "    )\n",
    ")"
   ]
  },
  {
   "cell_type": "code",
   "execution_count": null,
   "id": "49d21bfa",
   "metadata": {
    "executionInfo": {}
   },
   "outputs": [],
   "source": [
    "# 4.3 Métricas espaciales usando geographic_distribution_metrics\n",
    "def spatial_metrics_info(df):\n",
    "    metrics = geographic_distribution_metrics(df)\n",
    "    # Convertir la salida en un DataFrame amigable\n",
    "    if isinstance(metrics, pd.DataFrame):\n",
    "        return metrics\n",
    "    elif isinstance(metrics, pd.Series):\n",
    "        return metrics.to_frame(name=\"Valor\")\n",
    "    elif isinstance(metrics, dict):\n",
    "        return pd.DataFrame(list(metrics.items()), columns=[\"Métrica\", \"Valor\"])\n",
    "    else:\n",
    "        # en caso de que la función devuelva otra cosa\n",
    "        return pd.DataFrame({\"Métrica\": [\"Resultado\"], \"Valor\": [str(metrics)]})\n",
    "\n",
    "spatial_df = pn.bind(\n",
    "    spatial_metrics_info,\n",
    "    df=pn.bind(\n",
    "        filter_data,\n",
    "        meteorites,\n",
    "        year_slider,\n",
    "        mass_slider,\n",
    "        class_select,\n",
    "        type_select\n",
    "    )\n",
    ")"
   ]
  },
  {
   "cell_type": "markdown",
   "id": "8221b943",
   "metadata": {},
   "source": [
    "## 5. Construcción del Dashboard (Panel Tabs)\n",
    "\n",
    "Creamos las pestañas:\n",
    "- **Visualizaciones**: gráfico temporal, histograma, top clasificaciones, mapa.\n",
    "- **Métricas**: descriptivas, correlación, heatmap, métricas espaciales.\n",
    "\n",
    "Arriba colocamos los filtros, de modo que cualquier cambio se refleje en ambas pestañas simultáneamente."
   ]
  },
  {
   "cell_type": "code",
   "execution_count": null,
   "id": "f49c6032",
   "metadata": {
    "executionInfo": {}
   },
   "outputs": [
    {
     "data": {
      "text/html": [
       "<bokeh.io.notebook.CommManager at 0x7fe86f98cdf0>"
      ],
      "text/plain": [
       "<bokeh.io.notebook.CommManager at 0x7fe86f98cdf0>"
      ]
     },
     "execution_count": 17,
     "metadata": {},
     "output_type": "execute_result"
    }
   ],
   "source": [
    "# Panel de visualizaciones\n",
    "visualizations_panel = pn.Column(\n",
    "    pn.pane.Markdown(\"### Visualizaciones interactivas\", style={'font-size': '15px', 'font-weight': 'bold'}),\n",
    "    timeseries_plot,\n",
    "    pn.Row(mass_hist_plot, class_bar_plot),\n",
    "    pn.pane.HTML(\"<hr>\", height=10),\n",
    "    pn.pane.Markdown(\"**Mapa mundial de meteoritos:**\"),\n",
    "    pn.pane.plot.Folium(meteorite_map, height=400)\n",
    ")\n",
    "\n",
    "# Panel de métricas\n",
    "metrics_panel = pn.Column(\n",
    "    pn.pane.Markdown(\"### Métricas y Estadísticas\", style={'font-size': '15px', 'font-weight': 'bold'}),\n",
    "    pn.pane.Markdown(\"**Estadísticas descriptivas (masa en gramos):**\"),\n",
    "    pn.bind(lambda df: pn.pane.DataFrame(df, index=False, autosize_mode='fit_view', height=120), stats_df),\n",
    "    pn.pane.Markdown(\"**Correlación (matriz de Pearson):**\"),\n",
    "    pn.bind(lambda df: pn.pane.DataFrame(df, height=150), corr_df),\n",
    "    pn.Row(corr_heatmap),\n",
    "    pn.pane.Markdown(\"**Métricas espaciales:**\"),\n",
    "    pn.bind(lambda df: pn.pane.DataFrame(df, index=False, autosize_mode='fit_view', height=150), spatial_df)\n",
    ")\n",
    "\n",
    "# Crear Tabs\n",
    "tabs = pn.Tabs(\n",
    "    (\"📈 Visualizaciones\", visualizations_panel),\n",
    "    (\"📊 Métricas\", metrics_panel)\n",
    ")\n",
    "\n",
    "# Layout final\n",
    "dashboard = pn.Column(\n",
    "    pn.pane.Markdown(\"## Filtros\", style={'font-size': '16px', 'font-weight': 'bold'}),\n",
    "    pn.Row(year_slider, mass_slider, class_select, type_select),\n",
    "    tabs\n",
    ")\n",
    "\n",
    "# Mostrar Dashboard\n",
    "dashboard"
   ]
  }
 ],
 "metadata": {
  "kernelspec": {
   "display_name": "venv",
   "language": "python",
   "name": "python3"
  },
  "language_info": {
   "codemirror_mode": {
    "name": "ipython",
    "version": 3
   },
   "file_extension": ".py",
   "mimetype": "text/x-python",
   "name": "python",
   "nbconvert_exporter": "python",
   "pygments_lexer": "ipython3",
   "version": "3.9.12"
  }
 },
 "nbformat": 4,
 "nbformat_minor": 5
}
